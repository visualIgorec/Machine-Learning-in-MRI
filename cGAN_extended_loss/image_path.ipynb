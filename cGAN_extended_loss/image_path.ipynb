{
 "cells": [
  {
   "cell_type": "code",
   "execution_count": 22,
   "id": "4076250d-eade-4d74-96e3-752e8342d2d7",
   "metadata": {},
   "outputs": [],
   "source": [
    "import os\n",
    "import shutil\n",
    "import cv2 as cv\n",
    "import matplotlib.pyplot as plt"
   ]
  },
  {
   "cell_type": "code",
   "execution_count": 23,
   "id": "090ea6fa-11ec-442f-82ef-d0d5bc91cd4a",
   "metadata": {},
   "outputs": [],
   "source": [
    "source_dir = 'D:\\heart'\n",
    "target_dir = 'D:\\heart_images'"
   ]
  },
  {
   "cell_type": "code",
   "execution_count": 24,
   "id": "2322cef7-bf02-4149-87a4-9c5f60b48e1c",
   "metadata": {},
   "outputs": [],
   "source": [
    "list_dir = os.listdir(source_dir)"
   ]
  },
  {
   "cell_type": "code",
   "execution_count": 25,
   "id": "0ed3aa43-17db-4c4f-aa04-3c213a5f6376",
   "metadata": {},
   "outputs": [],
   "source": [
    "list_file = []\n",
    "for item in list_dir:\n",
    "    tmp = os.listdir(os.path.join(source_dir,item))\n",
    "    list_file.append(tmp)"
   ]
  },
  {
   "cell_type": "code",
   "execution_count": 26,
   "id": "57c3ea4f-2628-4c77-bb89-b24d6d04aaed",
   "metadata": {},
   "outputs": [],
   "source": [
    "i=0\n",
    "for folder_idx in range(len(list_dir)):\n",
    "    for file_idx in range(len(list_file[folder_idx])):\n",
    "        tmp_name = os.path.join(source_dir, list_dir[folder_idx], list_file[folder_idx][file_idx])\n",
    "        img = cv.imread(tmp_name, cv.IMREAD_GRAYSCALE)\n",
    "        cv.imwrite(os.path.join(target_dir, f'{i}.png'), img)\n",
    "        i+=1"
   ]
  },
  {
   "cell_type": "code",
   "execution_count": null,
   "id": "68e3585c-0291-4df3-b03b-33c368dc89ab",
   "metadata": {},
   "outputs": [],
   "source": []
  }
 ],
 "metadata": {
  "kernelspec": {
   "display_name": "Python 3 (ipykernel)",
   "language": "python",
   "name": "python3"
  },
  "language_info": {
   "codemirror_mode": {
    "name": "ipython",
    "version": 3
   },
   "file_extension": ".py",
   "mimetype": "text/x-python",
   "name": "python",
   "nbconvert_exporter": "python",
   "pygments_lexer": "ipython3",
   "version": "3.8.5"
  }
 },
 "nbformat": 4,
 "nbformat_minor": 5
}
