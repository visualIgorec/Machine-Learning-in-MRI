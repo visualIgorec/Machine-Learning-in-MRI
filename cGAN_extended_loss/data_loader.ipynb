{
 "cells": [
  {
   "cell_type": "code",
   "execution_count": null,
   "id": "7ba5bdcb-ddad-4b7c-b3ce-f631edf1b8ea",
   "metadata": {},
   "outputs": [],
   "source": [
    "import torch\n",
    "import torch.nn as nn\n",
    "import torchvision.datasets\n",
    "import torchvision.transforms as transforms\n",
    "from torch.utils.data import TensorDataset, DataLoader, Dataset\n",
    "from torch.utils.data.dataset import random_split\n",
    "from torchvision.transforms.transforms import ToPILImage\n",
    "from skimage import io\n",
    "\n",
    "import numpy as np\n",
    "import matplotlib.pyplot as plt\n",
    "\n",
    "import pandas as pd\n",
    "import os"
   ]
  },
  {
   "cell_type": "code",
   "execution_count": null,
   "id": "c93ad053-0dbb-4c01-8f49-c95aff815097",
   "metadata": {},
   "outputs": [],
   "source": [
    "source_dir = 'D:\\\\heart_data\\\\undersampled_heart_images'\n",
    "list_dir = os.listdir(source_dir)\n",
    "list_pd = []\n",
    "for file_name in list_dir:\n",
    "    list_pd.append(file_name)\n",
    "df = pd.DataFrame(list_pd)\n",
    "df"
   ]
  },
  {
   "cell_type": "code",
   "execution_count": null,
   "id": "44ae13c1-aece-4321-9bd1-51d2b60f9537",
   "metadata": {},
   "outputs": [],
   "source": [
    "class CustomDataTransform(Dataset):\n",
    "    def __init__(self, df, features_transform=None, label_transform=None):\n",
    "        self.df = df\n",
    "        self.features_transform = features_transform\n",
    "        self.label_transform = label_transform\n",
    "        self.root_dir_x = 'D:\\\\heart_data\\\\undersampled_heart_images'\n",
    "        self.root_dir_y = 'D:\\\\heart_data\\\\heart_images'\n",
    "\n",
    "    def __len__(self):\n",
    "        return len(self.df)\n",
    "        \n",
    "    def __getitem__(self,index):\n",
    "        img_path_x = os.path.join(self.root_dir_x, self.df.iloc[index, 0])\n",
    "        img_path_y = os.path.join(self.root_dir_y, self.df.iloc[index, 0])\n",
    "        image_x = io.imread(img_path_x)\n",
    "        image_y = io.imread(img_path_y)\n",
    "        \n",
    "        if self.features_transform is not None:\n",
    "            image_x = self.features_transform(image_x)\n",
    "\n",
    "        if self.label_transform is not None:\n",
    "            image_y = self.label_transform(image_y)\n",
    "\n",
    "        return (image_x, image_y)\n",
    "\n",
    "x_transform = transforms.Compose([\n",
    "    transforms.ToPILImage(),\n",
    "    transforms.Resize((128,128)),\n",
    "    transforms.RandomHorizontalFlip(p=0.5),\n",
    "    transforms.RandomVerticalFlip(p=0.5),\n",
    "    transforms.ToTensor(),\n",
    "    transforms.Normalize(mean=[0.5],\n",
    "                         std=[0.1])\n",
    "])\n",
    "\n",
    "y_transform = transforms.Compose([\n",
    "    transforms.ToPILImage(),\n",
    "    transforms.Resize((128,128)),\n",
    "    transforms.RandomHorizontalFlip(p=0.5),\n",
    "    transforms.RandomVerticalFlip(p=0.5),\n",
    "    transforms.ToTensor(),\n",
    "    transforms.Normalize(mean=[0.5],\n",
    "                         std=[0.1])\n",
    "])\n",
    "\n",
    "dataset = CustomDataTransform(df, features_transform=x_transform,\n",
    "                                  label_transform=y_transform)\n",
    "\n",
    "batch_size = 32\n",
    "part = 0.8\n",
    "train_lenght = int(len(dataset)*part)\n",
    "test_lenght = int(len(dataset) - train_lenght)\n",
    "\n",
    "train_set, test_set = random_split(dataset, [train_lenght, test_lenght])\n",
    "train_loader = DataLoader(train_set, batch_size=batch_size, drop_last=False, shuffle=True)\n",
    "test_loader = DataLoader(test_set, batch_size=batch_size, drop_last=False, shuffle=True)"
   ]
  },
  {
   "cell_type": "code",
   "execution_count": null,
   "id": "d96ed3f3-2036-4a95-84ea-207a588559d1",
   "metadata": {},
   "outputs": [],
   "source": [
    "print(f'Length of dataset is {len(dataset)}')\n",
    "plt.imshow(train_set[0][1][0], cmap='gray')"
   ]
  },
  {
   "cell_type": "code",
   "execution_count": null,
   "id": "cd54e017-c63a-4e01-98ee-721a44f6ce87",
   "metadata": {},
   "outputs": [],
   "source": []
  }
 ],
 "metadata": {
  "kernelspec": {
   "display_name": "Python 3 (ipykernel)",
   "language": "python",
   "name": "python3"
  },
  "language_info": {
   "codemirror_mode": {
    "name": "ipython",
    "version": 3
   },
   "file_extension": ".py",
   "mimetype": "text/x-python",
   "name": "python",
   "nbconvert_exporter": "python",
   "pygments_lexer": "ipython3",
   "version": "3.8.5"
  }
 },
 "nbformat": 4,
 "nbformat_minor": 5
}
